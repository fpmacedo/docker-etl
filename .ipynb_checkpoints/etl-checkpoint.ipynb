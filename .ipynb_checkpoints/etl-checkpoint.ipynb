{
 "cells": [
  {
   "cell_type": "code",
   "execution_count": 70,
   "id": "d6ba2e83",
   "metadata": {},
   "outputs": [
    {
     "name": "stdout",
     "output_type": "stream",
     "text": [
      "localhost melhorenvio melhorenviouser melhorenviopassword 5432\n"
     ]
    }
   ],
   "source": [
    "import zipfile\n",
    "import os\n",
    "import configparser\n",
    "import psycopg2\n",
    "\n",
    "config = configparser.ConfigParser()\n",
    "config.read('./python-etl/etl.cfg')\n",
    "print(*config['DWH'].values())"
   ]
  },
  {
   "cell_type": "code",
   "execution_count": 146,
   "id": "5ec75766",
   "metadata": {},
   "outputs": [],
   "source": [
    "conn = psycopg2.connect(\"host={} dbname={} user={} password={} port={}\".format(*config['DWH'].values()))\n",
    "cur = conn.cursor()"
   ]
  },
  {
   "cell_type": "code",
   "execution_count": 64,
   "id": "ac5ba77c",
   "metadata": {},
   "outputs": [],
   "source": [
    "## Specify the path to your zip file\n",
    "#zip_path = 'data.zip'\n",
    "\n",
    "## Open the zip file in read mode\n",
    "#with zipfile.ZipFile(zip_path, 'r') as zip_ref:\n",
    "#    # Extract all the contents into the current directory\n",
    "#    zip_ref.extractall('./data')"
   ]
  },
  {
   "cell_type": "code",
   "execution_count": 65,
   "id": "c70ac7be",
   "metadata": {},
   "outputs": [],
   "source": [
    "# List to store the names of CSV files\n",
    "csv_files = []"
   ]
  },
  {
   "cell_type": "code",
   "execution_count": 66,
   "id": "d72e4f5f",
   "metadata": {},
   "outputs": [],
   "source": [
    "# Loop through each file in the specified folder\n",
    "for file_name in os.listdir('./data'):\n",
    "    # Check if the file is a CSV by its extension\n",
    "    if file_name.endswith('.csv'):\n",
    "        csv_files.append(file_name)\n",
    "    \n",
    "# Sort the list of CSV file names\n",
    "csv_files_sorted = sorted(csv_files)"
   ]
  },
  {
   "cell_type": "code",
   "execution_count": 147,
   "id": "79de35f2",
   "metadata": {},
   "outputs": [],
   "source": [
    "sql_query_create = f\"\"\"\n",
    "    CREATE TABLE teste1 (\n",
    "      Op VARCHAR(50),\n",
    "      oid__id UUID,\n",
    "      createdAt BIGINT,\n",
    "      updatedAt BIGINT,\n",
    "      lastSyncTracker BIGINT,\n",
    "      array_trackingEvents JSON,\n",
    "      PRIMARY KEY (oid__id)\n",
    "        );\n",
    "    \"\"\"\n",
    "cur.execute(sql_query_create)\n",
    "conn.commit()"
   ]
  },
  {
   "cell_type": "code",
   "execution_count": 148,
   "id": "8b830caf",
   "metadata": {},
   "outputs": [
    {
     "ename": "InvalidTextRepresentation",
     "evalue": "malformed array literal: \"[{'createdAt': {'$date': 1690994210000}, 'trackingCode': '2969a474d802523cf034c17c5f4ef5e2', 'status': None, 'description': 'EMISSAO', 'trackerType': '202591c2658eb8db7d1c57e1273cd270', 'from': 'cea42657b7208972625c9fa072925406', 'to': '6adf97f83acf6453d4a6a4b1070f3754'}, {'createdAt': {'$date': 1690996901000}, 'trackingCode': '2969a474d802523cf034c17c5f4ef5e2', 'status': None, 'description': 'TRANSFERENCIA', 'trackerType': '202591c2658eb8db7d1c57e1273cd270', 'from': 'cea42657b7208972625c9fa072925406', 'to': '6adf97f83acf6453d4a6a4b1070f3754'}, {'createdAt': {'$date': 1691055603000}, 'trackingCode': '2969a474d802523cf034c17c5f4ef5e2', 'status': None, 'description': 'ENTRADA', 'trackerType': '202591c2658eb8db7d1c57e1273cd270', 'from': 'fac929278c0e5ba967802153ba729336', 'to': '6adf97f83acf6453d4a6a4b1070f3754'}, {'createdAt': {'$date': 1691059240000}, 'trackingCode': '2969a474d802523cf034c17c5f4ef5e2', 'status': None, 'description': 'ENTRADA', 'trackerType': '202591c2658eb8db7d1c57e1273cd270', 'from': '089607e1466a53ee58164c9974d00976', 'to': '6adf97f83acf6453d4a6a4b1070f3754'}, {'createdAt': {'$date': 1691059988000}, 'trackingCode': '2969a474d802523cf034c17c5f4ef5e2', 'status': None, 'description': 'ENTRADA', 'trackerType': '202591c2658eb8db7d1c57e1273cd270', 'from': '484ba77375b97d1b928c2d4c5685c48b', 'to': '6adf97f83acf6453d4a6a4b1070f3754'}, {'createdAt': {'$date': 1691073203000}, 'trackingCode': '2969a474d802523cf034c17c5f4ef5e2', 'status': None, 'description': 'TRANSFERENCIA', 'trackerType': '202591c2658eb8db7d1c57e1273cd270', 'from': '484ba77375b97d1b928c2d4c5685c48b', 'to': '6adf97f83acf6453d4a6a4b1070f3754'}, {'createdAt': {'$date': 1691155880000}, 'trackingCode': '2969a474d802523cf034c17c5f4ef5e2', 'status': None, 'description': 'ENTRADA', 'trackerType': '202591c2658eb8db7d1c57e1273cd270', 'from': '7089a06f3103f61e0c27a210c8bce31e', 'to': '6adf97f83acf6453d4a6a4b1070f3754'}, {'createdAt': {'$date': 1691155901000}, 'trackingCode': '2969a474d802523cf034c17c5f4ef5e2', 'status': None, 'description': 'EM ROTA', 'trackerType': '202591c2658eb8db7d1c57e1273cd270', 'from': '7089a06f3103f61e0c27a210c8bce31e', 'to': '6adf97f83acf6453d4a6a4b1070f3754'}, {'createdAt': {'$date': 1691223462000}, 'trackingCode': '2969a474d802523cf034c17c5f4ef5e2', 'status': None, 'description': 'ENTREGUE', 'trackerType': '202591c2658eb8db7d1c57e1273cd270', 'from': '7089a06f3103f61e0c27a210c8bce31e', 'to': '6adf97f83acf6453d4a6a4b1070f3754'}]\"\nDETAIL:  \"[\" must introduce explicitly-specified array dimensions.\nCONTEXT:  COPY teste1, line 2, column array_trackingevents: \"[{'createdAt': {'$date': 1690994210000}, 'trackingCode': '2969a474d802523cf034c17c5f4ef5e2', 'status...\"\n",
     "output_type": "error",
     "traceback": [
      "\u001b[0;31m---------------------------------------------------------------------------\u001b[0m",
      "\u001b[0;31mInvalidTextRepresentation\u001b[0m                 Traceback (most recent call last)",
      "Cell \u001b[0;32mIn[148], line 11\u001b[0m\n\u001b[1;32m      9\u001b[0m conn \u001b[38;5;241m=\u001b[39m psycopg2\u001b[38;5;241m.\u001b[39mconnect(\u001b[38;5;124m\"\u001b[39m\u001b[38;5;124mhost=\u001b[39m\u001b[38;5;132;01m{}\u001b[39;00m\u001b[38;5;124m dbname=\u001b[39m\u001b[38;5;132;01m{}\u001b[39;00m\u001b[38;5;124m user=\u001b[39m\u001b[38;5;132;01m{}\u001b[39;00m\u001b[38;5;124m password=\u001b[39m\u001b[38;5;132;01m{}\u001b[39;00m\u001b[38;5;124m port=\u001b[39m\u001b[38;5;132;01m{}\u001b[39;00m\u001b[38;5;124m\"\u001b[39m\u001b[38;5;241m.\u001b[39mformat(\u001b[38;5;241m*\u001b[39mconfig[\u001b[38;5;124m'\u001b[39m\u001b[38;5;124mDWH\u001b[39m\u001b[38;5;124m'\u001b[39m]\u001b[38;5;241m.\u001b[39mvalues()))\n\u001b[1;32m     10\u001b[0m cur \u001b[38;5;241m=\u001b[39m conn\u001b[38;5;241m.\u001b[39mcursor()\n\u001b[0;32m---> 11\u001b[0m \u001b[43mcur\u001b[49m\u001b[38;5;241;43m.\u001b[39;49m\u001b[43mcopy_expert\u001b[49m\u001b[43m(\u001b[49m\u001b[43msql_query\u001b[49m\u001b[43m,\u001b[49m\u001b[43m \u001b[49m\u001b[43mfile\u001b[49m\u001b[43m)\u001b[49m\n\u001b[1;32m     12\u001b[0m conn\u001b[38;5;241m.\u001b[39mcommit()\n\u001b[1;32m     13\u001b[0m cur\u001b[38;5;241m.\u001b[39mclose()\n",
      "\u001b[0;31mInvalidTextRepresentation\u001b[0m: malformed array literal: \"[{'createdAt': {'$date': 1690994210000}, 'trackingCode': '2969a474d802523cf034c17c5f4ef5e2', 'status': None, 'description': 'EMISSAO', 'trackerType': '202591c2658eb8db7d1c57e1273cd270', 'from': 'cea42657b7208972625c9fa072925406', 'to': '6adf97f83acf6453d4a6a4b1070f3754'}, {'createdAt': {'$date': 1690996901000}, 'trackingCode': '2969a474d802523cf034c17c5f4ef5e2', 'status': None, 'description': 'TRANSFERENCIA', 'trackerType': '202591c2658eb8db7d1c57e1273cd270', 'from': 'cea42657b7208972625c9fa072925406', 'to': '6adf97f83acf6453d4a6a4b1070f3754'}, {'createdAt': {'$date': 1691055603000}, 'trackingCode': '2969a474d802523cf034c17c5f4ef5e2', 'status': None, 'description': 'ENTRADA', 'trackerType': '202591c2658eb8db7d1c57e1273cd270', 'from': 'fac929278c0e5ba967802153ba729336', 'to': '6adf97f83acf6453d4a6a4b1070f3754'}, {'createdAt': {'$date': 1691059240000}, 'trackingCode': '2969a474d802523cf034c17c5f4ef5e2', 'status': None, 'description': 'ENTRADA', 'trackerType': '202591c2658eb8db7d1c57e1273cd270', 'from': '089607e1466a53ee58164c9974d00976', 'to': '6adf97f83acf6453d4a6a4b1070f3754'}, {'createdAt': {'$date': 1691059988000}, 'trackingCode': '2969a474d802523cf034c17c5f4ef5e2', 'status': None, 'description': 'ENTRADA', 'trackerType': '202591c2658eb8db7d1c57e1273cd270', 'from': '484ba77375b97d1b928c2d4c5685c48b', 'to': '6adf97f83acf6453d4a6a4b1070f3754'}, {'createdAt': {'$date': 1691073203000}, 'trackingCode': '2969a474d802523cf034c17c5f4ef5e2', 'status': None, 'description': 'TRANSFERENCIA', 'trackerType': '202591c2658eb8db7d1c57e1273cd270', 'from': '484ba77375b97d1b928c2d4c5685c48b', 'to': '6adf97f83acf6453d4a6a4b1070f3754'}, {'createdAt': {'$date': 1691155880000}, 'trackingCode': '2969a474d802523cf034c17c5f4ef5e2', 'status': None, 'description': 'ENTRADA', 'trackerType': '202591c2658eb8db7d1c57e1273cd270', 'from': '7089a06f3103f61e0c27a210c8bce31e', 'to': '6adf97f83acf6453d4a6a4b1070f3754'}, {'createdAt': {'$date': 1691155901000}, 'trackingCode': '2969a474d802523cf034c17c5f4ef5e2', 'status': None, 'description': 'EM ROTA', 'trackerType': '202591c2658eb8db7d1c57e1273cd270', 'from': '7089a06f3103f61e0c27a210c8bce31e', 'to': '6adf97f83acf6453d4a6a4b1070f3754'}, {'createdAt': {'$date': 1691223462000}, 'trackingCode': '2969a474d802523cf034c17c5f4ef5e2', 'status': None, 'description': 'ENTREGUE', 'trackerType': '202591c2658eb8db7d1c57e1273cd270', 'from': '7089a06f3103f61e0c27a210c8bce31e', 'to': '6adf97f83acf6453d4a6a4b1070f3754'}]\"\nDETAIL:  \"[\" must introduce explicitly-specified array dimensions.\nCONTEXT:  COPY teste1, line 2, column array_trackingevents: \"[{'createdAt': {'$date': 1690994210000}, 'trackingCode': '2969a474d802523cf034c17c5f4ef5e2', 'status...\"\n"
     ]
    }
   ],
   "source": [
    "import csv\n",
    "\n",
    "with open('20230904-130010492.csv', mode='r') as file:\n",
    "    sql_query = f\"\"\"\n",
    "    COPY teste1 \n",
    "    FROM STDIN\n",
    "    WITH (FORMAT csv, HEADER true, DELIMITER ',');\n",
    "    \"\"\"\n",
    "    conn = psycopg2.connect(\"host={} dbname={} user={} password={} port={}\".format(*config['DWH'].values()))\n",
    "    cur = conn.cursor()\n",
    "    cur.copy_expert(sql_query, file)\n",
    "    conn.commit()\n",
    "    cur.close()"
   ]
  },
  {
   "cell_type": "code",
   "execution_count": 139,
   "id": "99c4c505",
   "metadata": {},
   "outputs": [],
   "source": [
    "\n"
   ]
  },
  {
   "cell_type": "code",
   "execution_count": 140,
   "id": "a8d102a0",
   "metadata": {},
   "outputs": [
    {
     "ename": "QueryCanceled",
     "evalue": "COPY from stdin failed: error in .read() call: ValueError I/O operation on closed file.\nCONTEXT:  COPY teste1, line 1\n",
     "output_type": "error",
     "traceback": [
      "\u001b[0;31m---------------------------------------------------------------------------\u001b[0m",
      "\u001b[0;31mQueryCanceled\u001b[0m                             Traceback (most recent call last)",
      "Cell \u001b[0;32mIn[140], line 3\u001b[0m\n\u001b[1;32m      1\u001b[0m conn \u001b[38;5;241m=\u001b[39m psycopg2\u001b[38;5;241m.\u001b[39mconnect(\u001b[38;5;124m\"\u001b[39m\u001b[38;5;124mhost=\u001b[39m\u001b[38;5;132;01m{}\u001b[39;00m\u001b[38;5;124m dbname=\u001b[39m\u001b[38;5;132;01m{}\u001b[39;00m\u001b[38;5;124m user=\u001b[39m\u001b[38;5;132;01m{}\u001b[39;00m\u001b[38;5;124m password=\u001b[39m\u001b[38;5;132;01m{}\u001b[39;00m\u001b[38;5;124m port=\u001b[39m\u001b[38;5;132;01m{}\u001b[39;00m\u001b[38;5;124m\"\u001b[39m\u001b[38;5;241m.\u001b[39mformat(\u001b[38;5;241m*\u001b[39mconfig[\u001b[38;5;124m'\u001b[39m\u001b[38;5;124mDWH\u001b[39m\u001b[38;5;124m'\u001b[39m]\u001b[38;5;241m.\u001b[39mvalues()))\n\u001b[1;32m      2\u001b[0m cur \u001b[38;5;241m=\u001b[39m conn\u001b[38;5;241m.\u001b[39mcursor()\n\u001b[0;32m----> 3\u001b[0m \u001b[43mcur\u001b[49m\u001b[38;5;241;43m.\u001b[39;49m\u001b[43mcopy_expert\u001b[49m\u001b[43m(\u001b[49m\u001b[43msql_query\u001b[49m\u001b[43m,\u001b[49m\u001b[43m \u001b[49m\u001b[43mfile\u001b[49m\u001b[43m)\u001b[49m\n\u001b[1;32m      4\u001b[0m conn\u001b[38;5;241m.\u001b[39mcommit()\n\u001b[1;32m      5\u001b[0m cur\u001b[38;5;241m.\u001b[39mclose()\n",
      "\u001b[0;31mQueryCanceled\u001b[0m: COPY from stdin failed: error in .read() call: ValueError I/O operation on closed file.\nCONTEXT:  COPY teste1, line 1\n"
     ]
    }
   ],
   "source": []
  },
  {
   "cell_type": "code",
   "execution_count": 91,
   "id": "13f4a541",
   "metadata": {},
   "outputs": [],
   "source": [
    "# Commit the transaction and close the connection\n",
    "conn.commit()\n",
    "cur.close()\n",
    "conn.close()"
   ]
  },
  {
   "cell_type": "code",
   "execution_count": null,
   "id": "eb22cacb",
   "metadata": {},
   "outputs": [],
   "source": []
  }
 ],
 "metadata": {
  "kernelspec": {
   "display_name": "Python 3 (ipykernel)",
   "language": "python",
   "name": "python3"
  },
  "language_info": {
   "codemirror_mode": {
    "name": "ipython",
    "version": 3
   },
   "file_extension": ".py",
   "mimetype": "text/x-python",
   "name": "python",
   "nbconvert_exporter": "python",
   "pygments_lexer": "ipython3",
   "version": "3.10.12"
  }
 },
 "nbformat": 4,
 "nbformat_minor": 5
}
