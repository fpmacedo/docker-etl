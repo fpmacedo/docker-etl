{
 "cells": [
  {
   "cell_type": "code",
   "execution_count": 70,
   "id": "2020536d",
   "metadata": {},
   "outputs": [
    {
     "name": "stdout",
     "output_type": "stream",
     "text": [
      "localhost melhorenvio melhorenviouser melhorenviopassword 5432\n"
     ]
    }
   ],
   "source": [
    "import zipfile\n",
    "import os\n",
    "import configparser\n",
    "import psycopg2\n",
    "\n",
    "config = configparser.ConfigParser()\n",
    "config.read('./python-etl/etl.cfg')\n",
    "print(*config['DWH'].values())"
   ]
  },
  {
   "cell_type": "code",
   "execution_count": 151,
   "id": "d0c00487",
   "metadata": {},
   "outputs": [],
   "source": [
    "conn = psycopg2.connect(\"host={} dbname={} user={} password={} port={}\".format(*config['DWH'].values()))\n",
    "cur = conn.cursor()"
   ]
  },
  {
   "cell_type": "code",
   "execution_count": 64,
   "id": "0572f187",
   "metadata": {},
   "outputs": [],
   "source": [
    "## Specify the path to your zip file\n",
    "#zip_path = 'data.zip'\n",
    "\n",
    "## Open the zip file in read mode\n",
    "#with zipfile.ZipFile(zip_path, 'r') as zip_ref:\n",
    "#    # Extract all the contents into the current directory\n",
    "#    zip_ref.extractall('./data')"
   ]
  },
  {
   "cell_type": "code",
   "execution_count": 65,
   "id": "2561f955",
   "metadata": {},
   "outputs": [],
   "source": [
    "# List to store the names of CSV files\n",
    "csv_files = []"
   ]
  },
  {
   "cell_type": "code",
   "execution_count": 66,
   "id": "8b59a312",
   "metadata": {},
   "outputs": [],
   "source": [
    "# Loop through each file in the specified folder\n",
    "for file_name in os.listdir('./data'):\n",
    "    # Check if the file is a CSV by its extension\n",
    "    if file_name.endswith('.csv'):\n",
    "        csv_files.append(file_name)\n",
    "    \n",
    "# Sort the list of CSV file names\n",
    "csv_files_sorted = sorted(csv_files)"
   ]
  },
  {
   "cell_type": "code",
   "execution_count": 152,
   "id": "aed676c2",
   "metadata": {},
   "outputs": [],
   "source": [
    "sql_query_create = f\"\"\"\n",
    "    CREATE TABLE teste1 (\n",
    "      Op VARCHAR(50),\n",
    "      oid__id UUID,\n",
    "      createdAt BIGINT,\n",
    "      updatedAt BIGINT,\n",
    "      lastSyncTracker BIGINT,\n",
    "      array_trackingEvents JSON,\n",
    "      PRIMARY KEY (oid__id)\n",
    "        );\n",
    "    \"\"\"\n",
    "cur.execute(sql_query_create)\n",
    "conn.commit()"
   ]
  },
  {
   "cell_type": "code",
   "execution_count": 153,
   "id": "02c97cd4",
   "metadata": {},
   "outputs": [
    {
     "ename": "InvalidTextRepresentation",
     "evalue": "invalid input syntax for type json\nDETAIL:  Token \"'\" is invalid.\nCONTEXT:  JSON data, line 1: [{'...\nCOPY teste1, line 2, column array_trackingevents: \"[{'createdAt': {'$date': 1690994210000}, 'trackingCode': '2969a474d802523cf034c17c5f4ef5e2', 'status...\"\n",
     "output_type": "error",
     "traceback": [
      "\u001b[0;31m---------------------------------------------------------------------------\u001b[0m",
      "\u001b[0;31mInvalidTextRepresentation\u001b[0m                 Traceback (most recent call last)",
      "Cell \u001b[0;32mIn[153], line 11\u001b[0m\n\u001b[1;32m      9\u001b[0m conn \u001b[38;5;241m=\u001b[39m psycopg2\u001b[38;5;241m.\u001b[39mconnect(\u001b[38;5;124m\"\u001b[39m\u001b[38;5;124mhost=\u001b[39m\u001b[38;5;132;01m{}\u001b[39;00m\u001b[38;5;124m dbname=\u001b[39m\u001b[38;5;132;01m{}\u001b[39;00m\u001b[38;5;124m user=\u001b[39m\u001b[38;5;132;01m{}\u001b[39;00m\u001b[38;5;124m password=\u001b[39m\u001b[38;5;132;01m{}\u001b[39;00m\u001b[38;5;124m port=\u001b[39m\u001b[38;5;132;01m{}\u001b[39;00m\u001b[38;5;124m\"\u001b[39m\u001b[38;5;241m.\u001b[39mformat(\u001b[38;5;241m*\u001b[39mconfig[\u001b[38;5;124m'\u001b[39m\u001b[38;5;124mDWH\u001b[39m\u001b[38;5;124m'\u001b[39m]\u001b[38;5;241m.\u001b[39mvalues()))\n\u001b[1;32m     10\u001b[0m cur \u001b[38;5;241m=\u001b[39m conn\u001b[38;5;241m.\u001b[39mcursor()\n\u001b[0;32m---> 11\u001b[0m \u001b[43mcur\u001b[49m\u001b[38;5;241;43m.\u001b[39;49m\u001b[43mcopy_expert\u001b[49m\u001b[43m(\u001b[49m\u001b[43msql_query\u001b[49m\u001b[43m,\u001b[49m\u001b[43m \u001b[49m\u001b[43mfile\u001b[49m\u001b[43m)\u001b[49m\n\u001b[1;32m     12\u001b[0m conn\u001b[38;5;241m.\u001b[39mcommit()\n\u001b[1;32m     13\u001b[0m cur\u001b[38;5;241m.\u001b[39mclose()\n",
      "\u001b[0;31mInvalidTextRepresentation\u001b[0m: invalid input syntax for type json\nDETAIL:  Token \"'\" is invalid.\nCONTEXT:  JSON data, line 1: [{'...\nCOPY teste1, line 2, column array_trackingevents: \"[{'createdAt': {'$date': 1690994210000}, 'trackingCode': '2969a474d802523cf034c17c5f4ef5e2', 'status...\"\n"
     ]
    }
   ],
   "source": [
    "import csv\n",
    "\n",
    "with open('20230904-130010492.csv', mode='r') as file:\n",
    "    sql_query = f\"\"\"\n",
    "    COPY teste1 \n",
    "    FROM STDIN\n",
    "    WITH (FORMAT csv, HEADER true, DELIMITER ',');\n",
    "    \"\"\"\n",
    "    conn = psycopg2.connect(\"host={} dbname={} user={} password={} port={}\".format(*config['DWH'].values()))\n",
    "    cur = conn.cursor()\n",
    "    cur.copy_expert(sql_query, file)\n",
    "    conn.commit()\n",
    "    cur.close()"
   ]
  },
  {
   "cell_type": "code",
   "execution_count": 139,
   "id": "5e7b4ad1",
   "metadata": {},
   "outputs": [],
   "source": [
    "\n"
   ]
  },
  {
   "cell_type": "code",
   "execution_count": 140,
   "id": "5a855d92",
   "metadata": {},
   "outputs": [
    {
     "ename": "QueryCanceled",
     "evalue": "COPY from stdin failed: error in .read() call: ValueError I/O operation on closed file.\nCONTEXT:  COPY teste1, line 1\n",
     "output_type": "error",
     "traceback": [
      "\u001b[0;31m---------------------------------------------------------------------------\u001b[0m",
      "\u001b[0;31mQueryCanceled\u001b[0m                             Traceback (most recent call last)",
      "Cell \u001b[0;32mIn[140], line 3\u001b[0m\n\u001b[1;32m      1\u001b[0m conn \u001b[38;5;241m=\u001b[39m psycopg2\u001b[38;5;241m.\u001b[39mconnect(\u001b[38;5;124m\"\u001b[39m\u001b[38;5;124mhost=\u001b[39m\u001b[38;5;132;01m{}\u001b[39;00m\u001b[38;5;124m dbname=\u001b[39m\u001b[38;5;132;01m{}\u001b[39;00m\u001b[38;5;124m user=\u001b[39m\u001b[38;5;132;01m{}\u001b[39;00m\u001b[38;5;124m password=\u001b[39m\u001b[38;5;132;01m{}\u001b[39;00m\u001b[38;5;124m port=\u001b[39m\u001b[38;5;132;01m{}\u001b[39;00m\u001b[38;5;124m\"\u001b[39m\u001b[38;5;241m.\u001b[39mformat(\u001b[38;5;241m*\u001b[39mconfig[\u001b[38;5;124m'\u001b[39m\u001b[38;5;124mDWH\u001b[39m\u001b[38;5;124m'\u001b[39m]\u001b[38;5;241m.\u001b[39mvalues()))\n\u001b[1;32m      2\u001b[0m cur \u001b[38;5;241m=\u001b[39m conn\u001b[38;5;241m.\u001b[39mcursor()\n\u001b[0;32m----> 3\u001b[0m \u001b[43mcur\u001b[49m\u001b[38;5;241;43m.\u001b[39;49m\u001b[43mcopy_expert\u001b[49m\u001b[43m(\u001b[49m\u001b[43msql_query\u001b[49m\u001b[43m,\u001b[49m\u001b[43m \u001b[49m\u001b[43mfile\u001b[49m\u001b[43m)\u001b[49m\n\u001b[1;32m      4\u001b[0m conn\u001b[38;5;241m.\u001b[39mcommit()\n\u001b[1;32m      5\u001b[0m cur\u001b[38;5;241m.\u001b[39mclose()\n",
      "\u001b[0;31mQueryCanceled\u001b[0m: COPY from stdin failed: error in .read() call: ValueError I/O operation on closed file.\nCONTEXT:  COPY teste1, line 1\n"
     ]
    }
   ],
   "source": []
  },
  {
   "cell_type": "code",
   "execution_count": 91,
   "id": "b097a29e",
   "metadata": {},
   "outputs": [],
   "source": [
    "# Commit the transaction and close the connection\n",
    "conn.commit()\n",
    "cur.close()\n",
    "conn.close()"
   ]
  },
  {
   "cell_type": "code",
   "execution_count": null,
   "id": "02ad77cb",
   "metadata": {},
   "outputs": [],
   "source": []
  }
 ],
 "metadata": {
  "kernelspec": {
   "display_name": "Python 3 (ipykernel)",
   "language": "python",
   "name": "python3"
  },
  "language_info": {
   "codemirror_mode": {
    "name": "ipython",
    "version": 3
   },
   "file_extension": ".py",
   "mimetype": "text/x-python",
   "name": "python",
   "nbconvert_exporter": "python",
   "pygments_lexer": "ipython3",
   "version": "3.10.12"
  }
 },
 "nbformat": 4,
 "nbformat_minor": 5
}
